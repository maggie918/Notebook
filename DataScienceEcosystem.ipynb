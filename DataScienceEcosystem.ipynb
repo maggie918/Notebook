{
 "cells": [
  {
   "cell_type": "markdown",
   "id": "8fcbc927-e9d3-4548-8138-dd79252fce42",
   "metadata": {},
   "source": [
    "# Data Science Tools and Ecosystem"
   ]
  },
  {
   "cell_type": "markdown",
   "id": "fbc6d2c4-df64-490b-b927-572ab9b95e9c",
   "metadata": {},
   "source": [
    "In this notebook, Data Science Tools and Ecosystem are summarized."
   ]
  },
  {
   "cell_type": "markdown",
   "id": "2539dd8b-c21f-4016-bb71-fcdd1e4d4444",
   "metadata": {},
   "source": [
    "Some of the most popular languages that Data Scientists use are:\n",
    "1. Python\n",
    "2. Julia\n",
    "3. R\n",
    "4. C++\n",
    "5. Java\n"
   ]
  },
  {
   "cell_type": "markdown",
   "id": "de9debd0-df41-40d0-9fe5-1f62337fb3c4",
   "metadata": {},
   "source": [
    "Some of the commonly used libraries used by Data Scientists include: \n",
    "\n",
    "1. ggplot\n",
    "2. plotly\n",
    "3. caret"
   ]
  },
  {
   "cell_type": "markdown",
   "id": "4341547f-0c3d-4d78-b801-d38aff4e5df4",
   "metadata": {},
   "source": [
    "...\n",
    "|Data Science Tools|\n",
    "| -----|\n",
    "|ElasticSearch|\n",
    "|MySQL|\n",
    "|CouchDB|\n",
    "|PostreSQL|\n",
    "...\n"
   ]
  },
  {
   "cell_type": "markdown",
   "id": "0031778b-f635-45e6-95c7-e4893e3213eb",
   "metadata": {},
   "source": [
    "### Below are a few examples of evaluating arithmetic expressions in Python"
   ]
  },
  {
   "cell_type": "code",
   "execution_count": 1,
   "id": "5135c426-0df9-44c4-8f32-1b5f7dbbd478",
   "metadata": {},
   "outputs": [
    {
     "data": {
      "text/plain": [
       "17"
      ]
     },
     "execution_count": 1,
     "metadata": {},
     "output_type": "execute_result"
    }
   ],
   "source": [
    "(3*4)+5\n",
    "# This is a simple arithmetic expression to multiply then add integers"
   ]
  },
  {
   "cell_type": "code",
   "execution_count": 3,
   "id": "f100cb82-9172-43fa-8dee-1abd99b504e7",
   "metadata": {},
   "outputs": [
    {
     "data": {
      "text/plain": [
       "3.3333333333333335"
      ]
     },
     "execution_count": 3,
     "metadata": {},
     "output_type": "execute_result"
    }
   ],
   "source": [
    "# This will convert 200 minutes to hours by diving by 60.\n",
    "200/60"
   ]
  },
  {
   "cell_type": "markdown",
   "id": "e2de9ce2-c7eb-4954-808a-299a67b3cdba",
   "metadata": {},
   "source": [
    "Objectives: \n",
    "- List popular languages for Data Science\n",
    "- Code arithemtic expressions\n",
    "- List commonly used libraries Data Scientists use\n",
    "- List popular Data Science Tools"
   ]
  },
  {
   "cell_type": "markdown",
   "id": "4481e8aa-7a0d-4965-9114-495dc90ac181",
   "metadata": {},
   "source": [
    "## Author\n",
    "Maggie"
   ]
  },
  {
   "cell_type": "code",
   "execution_count": null,
   "id": "e1e977c4-f5bd-4351-b581-e099450488e8",
   "metadata": {},
   "outputs": [],
   "source": []
  }
 ],
 "metadata": {
  "kernelspec": {
   "display_name": "Python 3 (ipykernel)",
   "language": "python",
   "name": "python3"
  },
  "language_info": {
   "codemirror_mode": {
    "name": "ipython",
    "version": 3
   },
   "file_extension": ".py",
   "mimetype": "text/x-python",
   "name": "python",
   "nbconvert_exporter": "python",
   "pygments_lexer": "ipython3",
   "version": "3.11.9"
  }
 },
 "nbformat": 4,
 "nbformat_minor": 5
}
